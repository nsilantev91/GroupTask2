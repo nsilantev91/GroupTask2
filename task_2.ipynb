{
 "cells": [
  {
   "cell_type": "code",
   "execution_count": 69,
   "id": "0a3e0286",
   "metadata": {},
   "outputs": [],
   "source": [
    "import numpy as np"
   ]
  },
  {
   "cell_type": "code",
   "execution_count": 70,
   "id": "ecd62e92",
   "metadata": {},
   "outputs": [],
   "source": [
    "filepath = \"image.jpg\""
   ]
  },
  {
   "cell_type": "code",
   "execution_count": 71,
   "id": "8e17b776",
   "metadata": {},
   "outputs": [],
   "source": [
    " rgb_letters = ('R', 'G', 'B')"
   ]
  },
  {
   "cell_type": "code",
   "execution_count": 72,
   "id": "bbf13c8b",
   "metadata": {},
   "outputs": [],
   "source": [
    "from PIL import Image\n",
    "import numpy as np\n",
    "\n",
    "\n",
    "def get_color_components(filepath):\n",
    "    img = Image.open(filepath)\n",
    "    sz = img.size\n",
    "    rgb = ([], [], [])\n",
    "    for y in range(sz[1]):\n",
    "        for i in range(3):\n",
    "            rgb[i].append([])\n",
    "        for x in range(sz[0]):\n",
    "            colors = img.getpixel((x, y))\n",
    "            rgb[0][y].append((colors[0], 0, 0))\n",
    "            rgb[1][y].append((0, colors[1], 0))\n",
    "            rgb[2][y].append((0, 0, colors[2]))\n",
    "    return rgb"
   ]
  },
  {
   "cell_type": "code",
   "execution_count": 73,
   "id": "698b8609",
   "metadata": {},
   "outputs": [],
   "source": [
    "def save_rgb_components(rgb, filepath):\n",
    "    pos = filepath.rfind('.')\n",
    "    for i in range(3):\n",
    "        new_filepath = filepath[:pos] + rgb_letters[i] + filepath[pos:]\n",
    "        new_image = Image.fromarray(np.array(rgb[i], dtype=np.uint8))\n",
    "        new_image.save(new_filepath)"
   ]
  },
  {
   "cell_type": "code",
   "execution_count": 74,
   "id": "305bf295",
   "metadata": {},
   "outputs": [],
   "source": [
    "rgb = get_color_components(filepath)\n"
   ]
  },
  {
   "cell_type": "code",
   "execution_count": 75,
   "id": "b805fe6e",
   "metadata": {},
   "outputs": [],
   "source": [
    "save_rgb_components(rgb, filepath)"
   ]
  },
  {
   "cell_type": "code",
   "execution_count": 76,
   "id": "19489cb5",
   "metadata": {},
   "outputs": [],
   "source": [
    "import matplotlib.pyplot as plt\n",
    "%matplotlib inline\n"
   ]
  },
  {
   "cell_type": "code",
   "execution_count": 84,
   "id": "83c9dea7",
   "metadata": {},
   "outputs": [
    {
     "data": {
      "image/png": "[encoded data removed]",
      "text/plain": [
       "<Figure size 432x288 with 1 Axes>"
      ]
     },
     "metadata": {
      "needs_background": "light"
     },
     "output_type": "display_data"
    },
    {
     "data": {
      "image/png": "[encoded data removed]",
      "text/plain": [
       "<Figure size 432x288 with 1 Axes>"
      ]
     },
     "metadata": {
      "needs_background": "light"
     },
     "output_type": "display_data"
    },
    {
     "data": {
      "image/png": "[encoded data removed]",
      "text/plain": [
       "<Figure size 432x288 with 1 Axes>"
      ]
     },
     "metadata": {
      "needs_background": "light"
     },
     "output_type": "display_data"
    }
   ],
   "source": [
    "for i in range(3):\n",
    "    m = rgb[i]\n",
    "    comp_list =[]\n",
    "    for x in range(len(m)):\n",
    "        for y in range(len(m[0])):\n",
    "            comp_list.append(m[x][y][i])\n",
    "    sz=len(comp_list)\n",
    "    plt.hist(comp_list, 256)\n",
    "    plt.title(rgb_letters[i])\n",
    "    plt.show()\n",
    "   \n"
   ]
  },
  {
   "cell_type": "code",
   "execution_count": null,
   "id": "6b27b45a",
   "metadata": {},
   "outputs": [],
   "source": []
  },
  {
   "cell_type": "code",
   "execution_count": null,
   "id": "1d1bf236",
   "metadata": {},
   "outputs": [],
   "source": []
  }
 ],
 "metadata": {
  "kernelspec": {
   "display_name": "Python 3",
   "language": "python",
   "name": "python3"
  },
  "language_info": {
   "codemirror_mode": {
    "name": "ipython",
    "version": 3
   },
   "file_extension": ".py",
   "mimetype": "text/x-python",
   "name": "python",
   "nbconvert_exporter": "python",
   "pygments_lexer": "ipython3",
   "version": "3.8.8"
  }
 },
 "nbformat": 4,
 "nbformat_minor": 5
}
